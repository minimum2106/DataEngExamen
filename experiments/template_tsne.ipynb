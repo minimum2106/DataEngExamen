{
 "cells": [
  {
   "cell_type": "code",
   "execution_count": null,
   "metadata": {},
   "outputs": [],
   "source": [
    "! pip install scikit-learn\n",
    "! pip install prince\n",
    "! pip install sentence_transformers"
   ]
  },
  {
   "cell_type": "code",
   "execution_count": 24,
   "id": "c9eaaaa3",
   "metadata": {},
   "outputs": [
    {
     "data": {
      "text/plain": [
       "'\\nVariables: \\n---------\\n\\ncorpus : list of documents\\nembeddings : documents embeddings of size NxM (N : number of documents, M : embedding dimension) \\nred_emd : reduced embeddings matrix using dimentionality reduction\\nk : number of clusters\\nlabels : documents labels\\npred : list of clustering predicted clusters \\n\\n'"
      ]
     },
     "execution_count": 24,
     "metadata": {},
     "output_type": "execute_result"
    }
   ],
   "source": [
    "from sklearn.datasets import fetch_20newsgroups\n",
    "from sklearn.metrics.cluster import normalized_mutual_info_score, adjusted_rand_score\n",
    "from sentence_transformers import SentenceTransformer\n",
    "import numpy as np\n",
    "from sklearn.manifold import TSNE\n",
    "import pandas as pd\n",
    "from sklearn.cluster import KMeans\n",
    "\n",
    "'''\n",
    "Variables: \n",
    "---------\n",
    "\n",
    "corpus : list of documents\n",
    "embeddings : documents embeddings of size NxM (N : number of documents, M : embedding dimension) \n",
    "red_emd : reduced embeddings matrix using dimentionality reduction\n",
    "k : number of clusters\n",
    "labels : documents labels\n",
    "pred : list of clustering predicted clusters \n",
    "\n",
    "'''"
   ]
  },
  {
   "cell_type": "code",
   "execution_count": 39,
   "id": "e77a0f00",
   "metadata": {},
   "outputs": [],
   "source": [
    "def dim_red(mat, p):\n",
    "    '''\n",
    "    Perform dimensionality reduction\n",
    "\n",
    "    Input:\n",
    "    -----\n",
    "        mat : NxM list \n",
    "        p : number of dimensions to keep \n",
    "    Output:\n",
    "    ------\n",
    "        red_mat : NxP list such that p<<m\n",
    "    '''\n",
    "    \n",
    "    # Initialisation de l'analyse des correspondances\n",
    "    ca = TSNE(\n",
    "        n_components = p,  \n",
    "        learning_rate='auto',      \n",
    "        init='random', \n",
    "        perplexity=3\n",
    "    ).fit_transform(mat)\n",
    "    \n",
    "    # ca = TSNE(n_components=p, random_state=0).fit_transform(mat)\n",
    "\n",
    "    return ca"
   ]
  },
  {
   "cell_type": "code",
   "execution_count": 15,
   "id": "a7ca9d2f",
   "metadata": {},
   "outputs": [],
   "source": [
    "# import data\n",
    "ng20 = fetch_20newsgroups(subset='test')\n",
    "corpus = ng20.data[:2000]\n",
    "labels = ng20.target[:2000]\n",
    "k = len(set(labels))\n",
    "\n",
    "# embedding\n",
    "model = SentenceTransformer('paraphrase-MiniLM-L6-v2')\n",
    "embeddings = model.encode(corpus)\n"
   ]
  },
  {
   "cell_type": "code",
   "execution_count": 16,
   "metadata": {},
   "outputs": [
    {
     "data": {
      "text/plain": [
       "array([[-0.57739985, -0.03035784, -0.10226065, ..., -0.37560168,\n",
       "        -0.09159009, -0.05665841],\n",
       "       [-0.54764974, -0.1471617 , -0.10938013, ..., -0.18822178,\n",
       "        -0.07229097, -0.15016393],\n",
       "       [ 0.00645877,  0.16189736, -0.22414432, ..., -0.38403475,\n",
       "         0.30487227,  0.17581558],\n",
       "       ...,\n",
       "       [-0.23235753,  0.01727558, -0.21409535, ..., -0.24929887,\n",
       "        -0.13749793,  0.03162361],\n",
       "       [-0.356682  ,  0.09248027, -0.26561555, ..., -0.08004162,\n",
       "        -0.3139933 ,  0.0114701 ],\n",
       "       [-0.39642942, -0.14386131, -0.07510002, ..., -0.00914432,\n",
       "        -0.09982094, -0.12229361]], dtype=float32)"
      ]
     },
     "execution_count": 16,
     "metadata": {},
     "output_type": "execute_result"
    }
   ],
   "source": [
    "embeddings"
   ]
  },
  {
   "cell_type": "code",
   "execution_count": 40,
   "metadata": {},
   "outputs": [],
   "source": [
    "# perform dimentionality reduction\n",
    "red_emb = dim_red(embeddings, 3)"
   ]
  },
  {
   "cell_type": "code",
   "execution_count": 41,
   "metadata": {},
   "outputs": [
    {
     "name": "stderr",
     "output_type": "stream",
     "text": [
      "/Users/zewei.lin/anaconda3/lib/python3.11/site-packages/sklearn/cluster/_kmeans.py:1412: FutureWarning: The default value of `n_init` will change from 10 to 'auto' in 1.4. Set the value of `n_init` explicitly to suppress the warning\n",
      "  super()._check_params_vs_input(X, default_n_init=10)\n"
     ]
    }
   ],
   "source": [
    "def clust(mat, k):\n",
    "    '''\n",
    "    Perform clustering\n",
    "\n",
    "    Input:\n",
    "    -----\n",
    "        mat : input list \n",
    "        k : number of cluster\n",
    "    Output:\n",
    "    ------\n",
    "        pred : list of predicted labels\n",
    "    '''\n",
    "        \n",
    "    # Création de l'objet KMeans\n",
    "    kmeans = KMeans(n_clusters=k)\n",
    "\n",
    "    # Ajustement du modèle et prédiction des clusters\n",
    "    pred = kmeans.fit_predict(mat)\n",
    "    \n",
    "    return pred\n",
    "    \n",
    "\n",
    "# perform clustering\n",
    "pred = clust(red_emb, k)\n"
   ]
  },
  {
   "cell_type": "code",
   "execution_count": 42,
   "metadata": {},
   "outputs": [
    {
     "data": {
      "text/plain": [
       "array([13,  2,  1, ..., 17, 19, 10], dtype=int32)"
      ]
     },
     "execution_count": 42,
     "metadata": {},
     "output_type": "execute_result"
    }
   ],
   "source": [
    "pred"
   ]
  },
  {
   "cell_type": "code",
   "execution_count": 45,
   "metadata": {},
   "outputs": [
    {
     "name": "stdout",
     "output_type": "stream",
     "text": [
      "NMI: 0.35 \n",
      "ARI: 0.17\n"
     ]
    }
   ],
   "source": [
    "# evaluate clustering results\n",
    "nmi_score = normalized_mutual_info_score(pred,labels)\n",
    "ari_score = adjusted_rand_score(pred,labels)\n",
    "\n",
    "print(f'NMI: {nmi_score:.2f} \\nARI: {ari_score:.2f}')"
   ]
  },
  {
   "cell_type": "code",
   "execution_count": null,
   "metadata": {},
   "outputs": [],
   "source": []
  }
 ],
 "metadata": {
  "kernelspec": {
   "display_name": "Python 3 (ipykernel)",
   "language": "python",
   "name": "python3"
  },
  "language_info": {
   "codemirror_mode": {
    "name": "ipython",
    "version": 3
   },
   "file_extension": ".py",
   "mimetype": "text/x-python",
   "name": "python",
   "nbconvert_exporter": "python",
   "pygments_lexer": "ipython3",
   "version": "3.11.5"
  }
 },
 "nbformat": 4,
 "nbformat_minor": 5
}
